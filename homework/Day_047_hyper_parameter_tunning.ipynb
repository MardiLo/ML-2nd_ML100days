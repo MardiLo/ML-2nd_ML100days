{
 "cells": [
  {
   "cell_type": "markdown",
   "metadata": {},
   "source": [
    "## [範例重點]\n",
    "了解 sklearn 中，GridSearchCV 的使用方法與原理"
   ]
  },
  {
   "cell_type": "code",
   "execution_count": 1,
   "metadata": {},
   "outputs": [],
   "source": [
    "import warnings\n",
    "\n",
    "warnings.simplefilter('ignore')\n",
    "\n",
    "# Datasets\n",
    "from sklearn import datasets\n",
    "\n",
    "# Preprocessing\n",
    "from sklearn.model_selection import train_test_split, KFold, GridSearchCV\n",
    "\n",
    "# Model\n",
    "from sklearn.ensemble import GradientBoostingRegressor\n",
    "\n",
    "# Evaluation\n",
    "from sklearn.metrics import mean_squared_error, r2_score, accuracy_score"
   ]
  },
  {
   "cell_type": "code",
   "execution_count": 2,
   "metadata": {},
   "outputs": [
    {
     "name": "stdout",
     "output_type": "stream",
     "text": [
      "MSE:  15.300237820682744\n"
     ]
    }
   ],
   "source": [
    "# 讀取波士頓房價資料集\n",
    "boston = datasets.load_boston()\n",
    "\n",
    "# 切分訓練集/測試集\n",
    "X_train, X_test, y_train, y_test = train_test_split(boston.data, boston.target, test_size=0.25, random_state=0)\n",
    "\n",
    "# 建立 GradientBoostingRegressor 模型\n",
    "gdb_reg = GradientBoostingRegressor(random_state=0)\n",
    "\n",
    "# 訓練模型\n",
    "gdb_reg.fit(X_train, y_train)\n",
    "\n",
    "# 預測測試集\n",
    "y_pred = gdb_reg.predict(X_test)\n",
    "\n",
    "# 回歸問題的衡量採用 MSE，預設參數得到 15.3 MSE\n",
    "mse = mean_squared_error(y_test, y_pred)\n",
    "print('MSE: ', mse)"
   ]
  },
  {
   "cell_type": "code",
   "execution_count": 3,
   "metadata": {},
   "outputs": [
    {
     "name": "stdout",
     "output_type": "stream",
     "text": [
      "Fitting 3 folds for each of 9 candidates, totalling 27 fits\n"
     ]
    },
    {
     "name": "stderr",
     "output_type": "stream",
     "text": [
      "[Parallel(n_jobs=2)]: Using backend LokyBackend with 2 concurrent workers.\n"
     ]
    },
    {
     "name": "stdout",
     "output_type": "stream",
     "text": [
      "Best Accuracy: -11.430351 using {'max_depth': 3, 'n_estimators': 200}\n"
     ]
    },
    {
     "name": "stderr",
     "output_type": "stream",
     "text": [
      "[Parallel(n_jobs=2)]: Done  27 out of  27 | elapsed:    5.6s finished\n",
      "C:\\Users\\haha\\Anaconda3\\envs\\ML\\lib\\site-packages\\sklearn\\model_selection\\_search.py:841: DeprecationWarning: The default of the `iid` parameter will change from True to False in version 0.22 and will be removed in 0.24. This will change numeric results when test-set sizes are unequal.\n",
      "  DeprecationWarning)\n"
     ]
    }
   ],
   "source": [
    "# 設定要訓練的超參數組合\n",
    "gdb_reg_param_grid = {'n_estimators': [100, 200, 300], \n",
    "                      'max_depth': [1, 3, 5]}\n",
    "\n",
    "# 建立搜尋物件，放入模型及參數組合字典\n",
    "gsgdb_reg = GridSearchCV(gdb_reg, gdb_reg_param_grid, cv=3, scoring=\"neg_mean_squared_error\", n_jobs=2, verbose=1)\n",
    "\n",
    "# 開始搜尋最佳參數\n",
    "gsgdb_reg.fit(X_train, y_train)\n",
    "\n",
    "# 印出最佳結果與最佳參數\n",
    "print(\"Best Accuracy: %f using %s\" % (gsgdb_reg.best_score_, gsgdb_reg.best_params_))"
   ]
  },
  {
   "cell_type": "code",
   "execution_count": 5,
   "metadata": {},
   "outputs": [
    {
     "name": "stdout",
     "output_type": "stream",
     "text": [
      "14.53003833297418\n"
     ]
    }
   ],
   "source": [
    "# 最佳參數模型\n",
    "gdb_reg_best = gsgdb_reg.best_estimator_\n",
    "\n",
    "# 預測測試集\n",
    "y_pred = gsgdb_reg.predict(X_test)\n",
    "\n",
    "# 調整參數後約可降至 14.53 的 MSE\n",
    "print(mean_squared_error(y_test, y_pred))"
   ]
  },
  {
   "cell_type": "code",
   "execution_count": null,
   "metadata": {},
   "outputs": [],
   "source": []
  }
 ],
 "metadata": {
  "kernelspec": {
   "display_name": "Python 3",
   "language": "python",
   "name": "python3"
  },
  "language_info": {
   "codemirror_mode": {
    "name": "ipython",
    "version": 3
   },
   "file_extension": ".py",
   "mimetype": "text/x-python",
   "name": "python",
   "nbconvert_exporter": "python",
   "pygments_lexer": "ipython3",
   "version": "3.6.8"
  }
 },
 "nbformat": 4,
 "nbformat_minor": 2
}
