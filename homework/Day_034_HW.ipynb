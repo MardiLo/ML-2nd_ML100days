{
 "cells": [
  {
   "cell_type": "markdown",
   "metadata": {},
   "source": [
    "## 練習時間\n",
    "假設我們資料中類別的數量並不均衡，在評估準確率時可能會有所偏頗，試著切分出 y_test 中，0 類別與 1 類別的數量是一樣的 (亦即 y_test 的類別是均衡的)"
   ]
  },
  {
   "cell_type": "code",
   "execution_count": 2,
   "metadata": {},
   "outputs": [
    {
     "data": {
      "text/plain": [
       "array([1., 1., 1., 1., 1., 1., 1., 1., 1., 1., 1., 1., 1., 1., 1., 1., 1.,\n",
       "       1., 1., 1., 1., 1., 1., 1., 1., 1., 1., 1., 1., 1., 1., 1., 1., 1.,\n",
       "       1., 1., 1., 1., 1., 1., 0., 0., 0., 0., 0., 0., 0., 0., 0., 0., 0.,\n",
       "       0., 0., 0., 0., 0., 0., 0., 0., 0., 0., 0., 0., 0., 0., 0., 0., 0.,\n",
       "       0., 0., 0., 0., 0., 0., 0., 0., 0., 0., 0., 0., 0., 0., 0., 0., 0.,\n",
       "       0., 0., 0., 0., 0., 0., 0., 0., 0., 0., 0., 0., 0., 0., 0., 0., 0.,\n",
       "       0., 0., 0., 0., 0., 0., 0., 0., 0., 0., 0., 0., 0., 0., 0., 0., 0.,\n",
       "       0., 0., 0., 0., 0., 0., 0., 0., 0., 0., 0., 0., 0., 0., 0., 0., 0.,\n",
       "       0., 0., 0., 0., 0., 0., 0., 0., 0., 0., 0., 0., 0., 0., 0., 0., 0.,\n",
       "       0., 0., 0., 0., 0., 0., 0., 0., 0., 0., 0., 0., 0., 0., 0., 0., 0.,\n",
       "       0., 0., 0., 0., 0., 0., 0., 0., 0., 0., 0., 0., 0., 0., 0., 0., 0.,\n",
       "       0., 0., 0., 0., 0., 0., 0., 0., 0., 0., 0., 0., 0.])"
      ]
     },
     "execution_count": 2,
     "metadata": {},
     "output_type": "execute_result"
    }
   ],
   "source": [
    "import numpy as np\n",
    "X = np.arange(1000).reshape(200, 5)\n",
    "y = np.zeros(200)\n",
    "y[:40] = 1\n",
    "y"
   ]
  },
  {
   "cell_type": "markdown",
   "metadata": {},
   "source": [
    "可以看見 y 類別中，有 160 個 類別 0，40 個 類別 1 ，請試著使用 train_test_split 函數，切分出 y_test 中能各有 10 筆類別 0 與 10 筆類別 1 。(HINT: 參考函數中的 test_size，可針對不同類別各自作切分後再合併)"
   ]
  },
  {
   "cell_type": "code",
   "execution_count": 48,
   "metadata": {
    "scrolled": false
   },
   "outputs": [
    {
     "name": "stdout",
     "output_type": "stream",
     "text": [
      " X_test_1\n",
      " [[110 111 112 113 114]\n",
      " [100 101 102 103 104]\n",
      " [125 126 127 128 129]\n",
      " [ 20  21  22  23  24]\n",
      " [ 50  51  52  53  54]\n",
      " [ 75  76  77  78  79]\n",
      " [140 141 142 143 144]\n",
      " [ 55  56  57  58  59]\n",
      " [ 90  91  92  93  94]\n",
      " [145 146 147 148 149]]\n",
      "\n",
      " y_test_1\n",
      " [1. 1. 1. 1. 1. 1. 1. 1. 1. 1.]\n",
      "\n",
      " X_test_0\n",
      " [[550 551 552 553 554]\n",
      " [560 561 562 563 564]\n",
      " [715 716 717 718 719]\n",
      " [ 35  36  37  38  39]\n",
      " [220 221 222 223 224]\n",
      " [505 506 507 508 509]\n",
      " [610 611 612 613 614]\n",
      " [330 331 332 333 334]\n",
      " [425 426 427 428 429]\n",
      " [430 431 432 433 434]]\n",
      "\n",
      " y_test_0\n",
      " [0. 0. 0. 0. 0. 0. 0. 0. 0. 0.]\n"
     ]
    }
   ],
   "source": [
    "y_1 = y[y==1]\n",
    "y_0 = y[y==0]\n",
    "X_1 = X[:len(y_1)]\n",
    "X_0 = X[:len(y_0)]\n",
    "\n",
    "from sklearn.model_selection import train_test_split\n",
    "X_train_1, X_test_1, y_train_1, y_test_1 = train_test_split(X_1, y_1, test_size=(10/40), random_state=0)\n",
    "X_train_0, X_test_0, y_train_0, y_test_0 = train_test_split(X_0, y_0, test_size=(10/160), random_state=0)\n",
    "\n",
    "print(f' X_test_1\\n {X_test_1}')\n",
    "print(f'\\n y_test_1\\n {y_test_1}')\n",
    "print(f'\\n X_test_0\\n {X_test_0}')\n",
    "print(f'\\n y_test_0\\n {y_test_0}')"
   ]
  },
  {
   "cell_type": "code",
   "execution_count": 49,
   "metadata": {},
   "outputs": [
    {
     "name": "stdout",
     "output_type": "stream",
     "text": [
      " X_test shape:(20, 5)\n",
      " [[110 111 112 113 114]\n",
      " [100 101 102 103 104]\n",
      " [125 126 127 128 129]\n",
      " [ 20  21  22  23  24]\n",
      " [ 50  51  52  53  54]\n",
      " [ 75  76  77  78  79]\n",
      " [140 141 142 143 144]\n",
      " [ 55  56  57  58  59]\n",
      " [ 90  91  92  93  94]\n",
      " [145 146 147 148 149]\n",
      " [550 551 552 553 554]\n",
      " [560 561 562 563 564]\n",
      " [715 716 717 718 719]\n",
      " [ 35  36  37  38  39]\n",
      " [220 221 222 223 224]\n",
      " [505 506 507 508 509]\n",
      " [610 611 612 613 614]\n",
      " [330 331 332 333 334]\n",
      " [425 426 427 428 429]\n",
      " [430 431 432 433 434]]\n",
      "\n",
      " y_test shape:(20,)\n",
      " [1. 1. 1. 1. 1. 1. 1. 1. 1. 1. 0. 0. 0. 0. 0. 0. 0. 0. 0. 0.]\n"
     ]
    }
   ],
   "source": [
    "X_test, y_test = np.concatenate((X_test_1, X_test_0)), np.concatenate((y_test_1, y_test_0))\n",
    "X_train, y_train = np.concatenate((X_train_1, X_train_0)), np.concatenate((y_train_1, y_train_0))\n",
    "\n",
    "print(f' X_test shape:{X_test.shape}\\n {X_test}')\n",
    "print(f'\\n y_test shape:{y_test.shape}\\n {y_test}')"
   ]
  },
  {
   "cell_type": "code",
   "execution_count": null,
   "metadata": {},
   "outputs": [],
   "source": []
  }
 ],
 "metadata": {
  "kernelspec": {
   "display_name": "Python 3",
   "language": "python",
   "name": "python3"
  },
  "language_info": {
   "codemirror_mode": {
    "name": "ipython",
    "version": 3
   },
   "file_extension": ".py",
   "mimetype": "text/x-python",
   "name": "python",
   "nbconvert_exporter": "python",
   "pygments_lexer": "ipython3",
   "version": "3.6.8"
  }
 },
 "nbformat": 4,
 "nbformat_minor": 2
}
