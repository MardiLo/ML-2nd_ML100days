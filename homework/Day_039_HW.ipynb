{
 "cells": [
  {
   "cell_type": "markdown",
   "metadata": {},
   "source": [
    "## [作業重點]\n",
    "清楚了解 L1, L2 的意義與差異為何，並了解 LASSO 與 Ridge 之間的差異與使用情境"
   ]
  },
  {
   "cell_type": "markdown",
   "metadata": {},
   "source": [
    "## 作業"
   ]
  },
  {
   "cell_type": "markdown",
   "metadata": {},
   "source": [
    "請閱讀相關文獻，並回答下列問題\n",
    "\n",
    "[脊回歸 (Ridge Regression)](https://blog.csdn.net/daunxx/article/details/51578787)\n",
    "[Linear, Ridge, Lasso Regression 本質區別](https://www.zhihu.com/question/38121173)\n",
    "\n",
    "1. LASSO 回歸可以被用來作為 Feature selection 的工具，請了解 LASSO 模型為什麼可用來作 Feature selection  \n",
    "   LASSO是基於OLS擬合的基礎上，對其係數的絕對值進行懲罰，目標函數如下:    \n",
    "   $$J(w) = min(\\frac{1}{N}\\left \\| y-Xw \\right \\|_{2}^{2}+\\lambda \\left \\| w \\right \\|_{1})$$  \n",
    "   這個目標函數的重點就是權重的一個平衡，第一，擬合的誤差要小，第二，係數的絕對值不能太大，並且因為L1正則化的term使得一些回歸係數變為$0$(幾何意義見下圖)，也就是產生一個稀疏的$w$向量，藉由這個稀疏向量就可以達到特徵選擇的效果了。\n",
    "   <img src=\"img/Lasso regression vs Ridge regression.PNG\" width=\"700\">  \n",
    "   \n",
    "   \n",
    "2. 當自變數 (X) 存在高度共線性時，Ridge Regression 可以處理這樣的問題嗎?  \n",
    "   可以，使用Ridge Regression可以使共線性的特徵係數非常靠近$0$，已達到近似特徵選擇的效果。"
   ]
  },
  {
   "cell_type": "code",
   "execution_count": null,
   "metadata": {},
   "outputs": [],
   "source": []
  }
 ],
 "metadata": {
  "kernelspec": {
   "display_name": "Python 3",
   "language": "python",
   "name": "python3"
  },
  "language_info": {
   "codemirror_mode": {
    "name": "ipython",
    "version": 3
   },
   "file_extension": ".py",
   "mimetype": "text/x-python",
   "name": "python",
   "nbconvert_exporter": "python",
   "pygments_lexer": "ipython3",
   "version": "3.6.8"
  }
 },
 "nbformat": 4,
 "nbformat_minor": 2
}
