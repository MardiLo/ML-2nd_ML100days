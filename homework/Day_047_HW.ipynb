{
 "cells": [
  {
   "cell_type": "markdown",
   "metadata": {},
   "source": [
    "## [作業重點]\n",
    "了解如何使用 Sklearn 中的 hyper-parameter search 找出最佳的超參數"
   ]
  },
  {
   "cell_type": "markdown",
   "metadata": {},
   "source": [
    "### 作業\n",
    "請使用不同的資料集，並使用 hyper-parameter search 的方式，看能不能找出最佳的超參數組合"
   ]
  },
  {
   "cell_type": "code",
   "execution_count": 1,
   "metadata": {},
   "outputs": [],
   "source": [
    "import warnings\n",
    "\n",
    "warnings.simplefilter('ignore')\n",
    "\n",
    "# Datasets\n",
    "from sklearn import datasets\n",
    "\n",
    "# Preprocessing\n",
    "from sklearn.model_selection import train_test_split, KFold, GridSearchCV\n",
    "\n",
    "# Model\n",
    "from sklearn.ensemble import GradientBoostingClassifier\n",
    "\n",
    "# Evaluation\n",
    "from sklearn.metrics import mean_squared_error, r2_score, accuracy_score"
   ]
  },
  {
   "cell_type": "code",
   "execution_count": 6,
   "metadata": {},
   "outputs": [],
   "source": [
    "# 讀取手寫辨識資料集\n",
    "digits = datasets.load_digits()\n",
    "\n",
    "# 切分訓練集/測試集\n",
    "X_train, X_test, y_train, y_test = train_test_split(digits.data, digits.target, test_size=0.25, random_state=0)"
   ]
  },
  {
   "cell_type": "code",
   "execution_count": 9,
   "metadata": {},
   "outputs": [
    {
     "name": "stdout",
     "output_type": "stream",
     "text": [
      "Fitting 5 folds for each of 8 candidates, totalling 40 fits\n"
     ]
    },
    {
     "name": "stderr",
     "output_type": "stream",
     "text": [
      "[Parallel(n_jobs=-1)]: Using backend LokyBackend with 4 concurrent workers.\n",
      "[Parallel(n_jobs=-1)]: Done  40 out of  40 | elapsed:  1.5min finished\n",
      "C:\\Users\\haha\\Anaconda3\\envs\\ML\\lib\\site-packages\\sklearn\\model_selection\\_search.py:841: DeprecationWarning: The default of the `iid` parameter will change from True to False in version 0.22 and will be removed in 0.24. This will change numeric results when test-set sizes are unequal.\n",
      "  DeprecationWarning)\n"
     ]
    },
    {
     "name": "stdout",
     "output_type": "stream",
     "text": [
      "Best CV score of GradientBoostingClassifier: -0.65256\n",
      "Best parameters of GradientBoostingClassifier:\n",
      " GradientBoostingClassifier(criterion='friedman_mse', init=None,\n",
      "              learning_rate=0.1, loss='deviance', max_depth=3,\n",
      "              max_features=None, max_leaf_nodes=None,\n",
      "              min_impurity_decrease=0.0, min_impurity_split=None,\n",
      "              min_samples_leaf=1, min_samples_split=10,\n",
      "              min_weight_fraction_leaf=0.0, n_estimators=250,\n",
      "              n_iter_no_change=None, presort='auto', random_state=None,\n",
      "              subsample=1.0, tol=0.0001, validation_fraction=0.1,\n",
      "              verbose=0, warm_start=False)\n",
      "Accuracy of best GradientBoostingClassifier: 0.96889\n"
     ]
    }
   ],
   "source": [
    "# 建立 GradientBoostingClassifier 模型\n",
    "gdb_clf = GradientBoostingClassifier()\n",
    "\n",
    "# Model training and hyper-parameters tuning\n",
    "gdb_clf_param_grid = {\"max_depth\": [3, 5],\n",
    "                      \"min_samples_split\": [10, 20],\n",
    "                      \"min_samples_leaf\": [1],\n",
    "                      \"max_features\": [None],\n",
    "                      \"learning_rate\": [0.1],\n",
    "                      \"n_estimators\": [100, 250]}\n",
    "\n",
    "gsgdb_clf = GridSearchCV(gdb_clf, param_grid=gdb_clf_param_grid, cv=5, scoring=\"neg_mean_squared_error\", n_jobs=-1, verbose=1)\n",
    "gsgdb_clf.fit(X_train, y_train)\n",
    "\n",
    "\n",
    "# Best score\n",
    "print(f\"Best CV score of GradientBoostingClassifier: {(gsgdb_clf.best_score_):.5f}\")\n",
    "\n",
    "# Best parameters\n",
    "gsgdb_clf_best = gsgdb_clf.best_estimator_\n",
    "print(\"Best parameters of GradientBoostingClassifier:\\n\", gsgdb_clf_best)\n",
    "\n",
    "# Predict by model\n",
    "y_pred = gsgdb_clf_best.predict(X_test)\n",
    "\n",
    "# Acuuracy\n",
    "print(f\"Accuracy of best GradientBoostingClassifier: {accuracy_score(y_test, y_pred):.5f}\")"
   ]
  },
  {
   "cell_type": "code",
   "execution_count": null,
   "metadata": {},
   "outputs": [],
   "source": []
  }
 ],
 "metadata": {
  "kernelspec": {
   "display_name": "Python 3",
   "language": "python",
   "name": "python3"
  },
  "language_info": {
   "codemirror_mode": {
    "name": "ipython",
    "version": 3
   },
   "file_extension": ".py",
   "mimetype": "text/x-python",
   "name": "python",
   "nbconvert_exporter": "python",
   "pygments_lexer": "ipython3",
   "version": "3.6.8"
  }
 },
 "nbformat": 4,
 "nbformat_minor": 2
}
