{
 "cells": [
  {
   "cell_type": "code",
   "execution_count": 56,
   "metadata": {},
   "outputs": [],
   "source": [
    "import numpy as np\n",
    "import pandas as pd\n",
    "import matplotlib.pyplot as plt\n",
    "import warnings\n",
    "import itertools\n",
    "\n",
    "warnings.simplefilter('ignore')\n",
    "\n",
    "# Datasets\n",
    "from sklearn import datasets\n",
    "\n",
    "# Preprocessing\n",
    "from sklearn.model_selection import train_test_split\n",
    "\n",
    "# Model\n",
    "from sklearn.linear_model import LinearRegression, Lasso, Ridge\n",
    "\n",
    "# Evaluation\n",
    "from sklearn.metrics import mean_squared_error, r2_score, accuracy_score"
   ]
  },
  {
   "cell_type": "code",
   "execution_count": 57,
   "metadata": {},
   "outputs": [
    {
     "name": "stdout",
     "output_type": "stream",
     "text": [
      "10 features: ['age', 'sex', 'bmi', 'bp', 's1', 's2', 's3', 's4', 's5', 's6']\n"
     ]
    },
    {
     "data": {
      "text/html": [
       "<div>\n",
       "<style scoped>\n",
       "    .dataframe tbody tr th:only-of-type {\n",
       "        vertical-align: middle;\n",
       "    }\n",
       "\n",
       "    .dataframe tbody tr th {\n",
       "        vertical-align: top;\n",
       "    }\n",
       "\n",
       "    .dataframe thead th {\n",
       "        text-align: right;\n",
       "    }\n",
       "</style>\n",
       "<table border=\"1\" class=\"dataframe\">\n",
       "  <thead>\n",
       "    <tr style=\"text-align: right;\">\n",
       "      <th></th>\n",
       "      <th>age</th>\n",
       "      <th>sex</th>\n",
       "      <th>bmi</th>\n",
       "      <th>bp</th>\n",
       "      <th>s1</th>\n",
       "      <th>s2</th>\n",
       "      <th>s3</th>\n",
       "      <th>s4</th>\n",
       "      <th>s5</th>\n",
       "      <th>s6</th>\n",
       "    </tr>\n",
       "  </thead>\n",
       "  <tbody>\n",
       "    <tr>\n",
       "      <th>0</th>\n",
       "      <td>0.038076</td>\n",
       "      <td>0.050680</td>\n",
       "      <td>0.061696</td>\n",
       "      <td>0.021872</td>\n",
       "      <td>-0.044223</td>\n",
       "      <td>-0.034821</td>\n",
       "      <td>-0.043401</td>\n",
       "      <td>-0.002592</td>\n",
       "      <td>0.019908</td>\n",
       "      <td>-0.017646</td>\n",
       "    </tr>\n",
       "    <tr>\n",
       "      <th>1</th>\n",
       "      <td>-0.001882</td>\n",
       "      <td>-0.044642</td>\n",
       "      <td>-0.051474</td>\n",
       "      <td>-0.026328</td>\n",
       "      <td>-0.008449</td>\n",
       "      <td>-0.019163</td>\n",
       "      <td>0.074412</td>\n",
       "      <td>-0.039493</td>\n",
       "      <td>-0.068330</td>\n",
       "      <td>-0.092204</td>\n",
       "    </tr>\n",
       "    <tr>\n",
       "      <th>2</th>\n",
       "      <td>0.085299</td>\n",
       "      <td>0.050680</td>\n",
       "      <td>0.044451</td>\n",
       "      <td>-0.005671</td>\n",
       "      <td>-0.045599</td>\n",
       "      <td>-0.034194</td>\n",
       "      <td>-0.032356</td>\n",
       "      <td>-0.002592</td>\n",
       "      <td>0.002864</td>\n",
       "      <td>-0.025930</td>\n",
       "    </tr>\n",
       "    <tr>\n",
       "      <th>3</th>\n",
       "      <td>-0.089063</td>\n",
       "      <td>-0.044642</td>\n",
       "      <td>-0.011595</td>\n",
       "      <td>-0.036656</td>\n",
       "      <td>0.012191</td>\n",
       "      <td>0.024991</td>\n",
       "      <td>-0.036038</td>\n",
       "      <td>0.034309</td>\n",
       "      <td>0.022692</td>\n",
       "      <td>-0.009362</td>\n",
       "    </tr>\n",
       "    <tr>\n",
       "      <th>4</th>\n",
       "      <td>0.005383</td>\n",
       "      <td>-0.044642</td>\n",
       "      <td>-0.036385</td>\n",
       "      <td>0.021872</td>\n",
       "      <td>0.003935</td>\n",
       "      <td>0.015596</td>\n",
       "      <td>0.008142</td>\n",
       "      <td>-0.002592</td>\n",
       "      <td>-0.031991</td>\n",
       "      <td>-0.046641</td>\n",
       "    </tr>\n",
       "  </tbody>\n",
       "</table>\n",
       "</div>"
      ],
      "text/plain": [
       "        age       sex       bmi        bp        s1        s2        s3  \\\n",
       "0  0.038076  0.050680  0.061696  0.021872 -0.044223 -0.034821 -0.043401   \n",
       "1 -0.001882 -0.044642 -0.051474 -0.026328 -0.008449 -0.019163  0.074412   \n",
       "2  0.085299  0.050680  0.044451 -0.005671 -0.045599 -0.034194 -0.032356   \n",
       "3 -0.089063 -0.044642 -0.011595 -0.036656  0.012191  0.024991 -0.036038   \n",
       "4  0.005383 -0.044642 -0.036385  0.021872  0.003935  0.015596  0.008142   \n",
       "\n",
       "         s4        s5        s6  \n",
       "0 -0.002592  0.019908 -0.017646  \n",
       "1 -0.039493 -0.068330 -0.092204  \n",
       "2 -0.002592  0.002864 -0.025930  \n",
       "3  0.034309  0.022692 -0.009362  \n",
       "4 -0.002592 -0.031991 -0.046641  "
      ]
     },
     "metadata": {},
     "output_type": "display_data"
    },
    {
     "name": "stdout",
     "output_type": "stream",
     "text": [
      "X shape:  (442, 10)\n",
      "y shape:  (442,)\n"
     ]
    }
   ],
   "source": [
    "# 讀取糖尿病資料集\n",
    "diabetes = datasets.load_diabetes()\n",
    "print(f\"{len(diabetes.feature_names)} features: {diabetes.feature_names}\")\n",
    "\n",
    "# 轉成 DataFrame 比較方便觀察\n",
    "diabetes_df = pd.DataFrame(diabetes.data, columns=diabetes.feature_names)\n",
    "display(diabetes_df.head())\n",
    "\n",
    "# 使用資料集中所有特徵作預測\n",
    "X = diabetes_df # X 需要為一個 matrix\n",
    "y = diabetes.target\n",
    "print(\"X shape: \", X.shape)\n",
    "print(\"y shape: \", y.shape)\n",
    "\n",
    "# 切分訓練集/測試集\n",
    "X_train, X_test, y_train, y_test = train_test_split(X, y, test_size=0.2, random_state=4)"
   ]
  },
  {
   "cell_type": "markdown",
   "metadata": {},
   "source": [
    "### Ols"
   ]
  },
  {
   "cell_type": "code",
   "execution_count": 58,
   "metadata": {},
   "outputs": [
    {
     "name": "stdout",
     "output_type": "stream",
     "text": [
      "y_pred:\n",
      " [ 74.43391835  93.01109527 174.89737143  52.70087943 180.63167083\n",
      " 145.29216855 112.87572919 121.31665469  86.80032197  72.09378757\n",
      " 106.45223905 193.85629433 182.28244231 125.44954596 155.88807338\n",
      " 139.16274427 176.97750299 119.391544   110.71450134 183.79586685\n",
      " 215.37201852 181.15778329  58.74605273 228.82344172  54.2078642\n",
      " 107.86621435 157.1596501  180.13320036  62.20538852  67.18498305\n",
      " 190.81938489 118.09494234 260.89115016 183.19864659 105.60921861\n",
      " 175.91776536 176.89214476 156.04517274 146.9267604  157.34264891\n",
      " 198.17580795 168.02789586 237.98697647  71.33866228 237.45207957\n",
      " 108.07352281 152.11732859  50.30628893 199.55743787 139.52692004\n",
      " 110.45619532 101.52014142 154.91606348 228.90426313  54.52750793\n",
      " 187.29002271 106.15579971  93.61499106 190.00654826 226.40047522\n",
      " 124.53876748  97.0908313  168.71526129 249.76923806 120.97965421\n",
      " 166.18303864 125.74890414 201.92319626 228.46151939 198.24974673\n",
      " 146.03410277 163.99013963 162.38407362 212.78534323 162.6299936\n",
      " 210.2429608   91.61967593 174.87371699 141.22837306 159.42309295\n",
      " 156.53865915 199.40366836 147.73539256 140.5505701   55.16763669\n",
      " 177.30731091 225.99809618 121.31254027 140.94135558]\n"
     ]
    }
   ],
   "source": [
    "# 建立一個 Ols 模型\n",
    "lin_reg = LinearRegression()\n",
    "\n",
    "# 將訓練資料丟進去模型訓練\n",
    "lin_reg.fit(X_train, y_train)\n",
    "\n",
    "# 將測試資料丟進模型得到預測結果\n",
    "y_pred = lin_reg.predict(X_test)\n",
    "print('y_pred:\\n', y_pred)"
   ]
  },
  {
   "cell_type": "code",
   "execution_count": 59,
   "metadata": {},
   "outputs": [
    {
     "name": "stdout",
     "output_type": "stream",
     "text": [
      " Features\n",
      " ['age', 'sex', 'bmi', 'bp', 's1', 's2', 's3', 's4', 's5', 's6']\n",
      "\n",
      " Coeff.\n",
      " [  33.40877011 -292.24672884  481.07153405  369.06269614 -966.37849405\n",
      "  589.81383056  232.61924401  288.3263166   802.72704593   37.81285219]\n",
      "\n",
      " Intercept\n",
      " 151.1466076284935\n",
      "\n",
      " Intercept\n",
      " 2939.416046645502\n",
      "\n",
      " R square\n",
      " 0.46108829156873343\n"
     ]
    }
   ],
   "source": [
    "# 印出 Ols 回歸的係數與及截距\n",
    "print(' Features\\n', diabetes.feature_names)\n",
    "print('\\n Coeff.\\n', lin_reg.coef_)\n",
    "print('\\n Intercept\\n', lin_reg.intercept_)\n",
    "\n",
    "# 回歸問題的衡量採用 MSE 及 R square\n",
    "ols_mse = mean_squared_error(y_test, y_pred)\n",
    "ols_r2 = r2_score(y_test, y_pred)\n",
    "print('\\n Intercept\\n', ols_mse)\n",
    "print('\\n R square\\n', ols_r2)"
   ]
  },
  {
   "cell_type": "markdown",
   "metadata": {},
   "source": [
    "### Lasso regression"
   ]
  },
  {
   "cell_type": "code",
   "execution_count": 60,
   "metadata": {},
   "outputs": [],
   "source": [
    "# 建立一個 Lasso 模型\n",
    "lasso_reg = Lasso(alpha=1.0)\n",
    "\n",
    "# 將訓練資料丟進去模型訓練\n",
    "lasso_reg.fit(X_train, y_train)\n",
    "\n",
    "# 將測試資料丟進模型得到預測結果\n",
    "y_pred = lasso_reg.predict(X_test)"
   ]
  },
  {
   "cell_type": "code",
   "execution_count": 61,
   "metadata": {},
   "outputs": [
    {
     "name": "stdout",
     "output_type": "stream",
     "text": [
      " Features\n",
      " ['age', 'sex', 'bmi', 'bp', 's1', 's2', 's3', 's4', 's5', 's6']\n",
      "\n",
      " Coeff.\n",
      " [  0.          -0.         321.203877    57.74744332   0.\n",
      "   0.          -0.           0.         332.41817196   0.        ]\n",
      "\n",
      " Intercept\n",
      " 151.5850497350083\n",
      "\n",
      " Intercept\n",
      " 3505.8375893028074\n",
      "\n",
      " R square\n",
      " 0.35724072579318467\n"
     ]
    }
   ],
   "source": [
    "# 印出 Lasso 回歸的係數與及截距 (許多係數都變成 0，Lasso Regression 的矩陣稀疏性可以用作特徵選取)\n",
    "print(' Features\\n', diabetes.feature_names)\n",
    "print('\\n Coeff.\\n', lasso_reg.coef_)\n",
    "print('\\n Intercept\\n', lasso_reg.intercept_)\n",
    "\n",
    "# 回歸問題的衡量採用 MSE 及 R square\n",
    "lasso_mse = mean_squared_error(y_test, y_pred)\n",
    "lasso_r2 = r2_score(y_test, y_pred)\n",
    "print('\\n Intercept\\n', lasso_mse)\n",
    "print('\\n R square\\n', lasso_r2)"
   ]
  },
  {
   "cell_type": "markdown",
   "metadata": {},
   "source": [
    "### Ridge regression"
   ]
  },
  {
   "cell_type": "code",
   "execution_count": 62,
   "metadata": {},
   "outputs": [],
   "source": [
    "# 建立一個線性回歸模型\n",
    "ridge_reg = Ridge(alpha=1.0)\n",
    "\n",
    "# 將訓練資料丟進去模型訓練\n",
    "ridge_reg.fit(X_train, y_train)\n",
    "\n",
    "# 將測試資料丟進模型得到預測結果\n",
    "y_pred = ridge_reg.predict(X_test)"
   ]
  },
  {
   "cell_type": "code",
   "execution_count": 63,
   "metadata": {},
   "outputs": [
    {
     "name": "stdout",
     "output_type": "stream",
     "text": [
      " Features\n",
      " ['age', 'sex', 'bmi', 'bp', 's1', 's2', 's3', 's4', 's5', 's6']\n",
      "\n",
      " Coeff.\n",
      " [  48.8125786   -85.49511577  270.22532535  201.91767903   17.41308665\n",
      "  -19.04346706 -136.47737574  122.26503311  247.60074795   95.59855598]\n",
      "\n",
      " Intercept\n",
      " 151.29747021571842\n",
      "\n",
      " Intercept\n",
      " 3221.420945064198\n",
      "\n",
      " R square\n",
      " 0.4093855930799496\n"
     ]
    }
   ],
   "source": [
    "# 印出 Ridge 回歸的係數與及截距 (許多係數都變小很多)\n",
    "print(' Features\\n', diabetes.feature_names)\n",
    "print('\\n Coeff.\\n', ridge_reg.coef_)\n",
    "print('\\n Intercept\\n', ridge_reg.intercept_)\n",
    "\n",
    "# 回歸問題的衡量採用 MSE 及 R square\n",
    "ridge_mse = mean_squared_error(y_test, y_pred)\n",
    "ridge_r2 = r2_score(y_test, y_pred)\n",
    "print('\\n Intercept\\n', ridge_mse)\n",
    "print('\\n R square\\n', ridge_r2)"
   ]
  },
  {
   "cell_type": "markdown",
   "metadata": {},
   "source": [
    "可以看見 Lasso 與 Ridge 的結果並沒有比原本的線性回歸來得好，\n",
    "這是因為目標函數被加上了正規化函數，讓模型不能過於複雜，相當於限制模型擬和資料的能力。因此若沒有發現 Over-fitting 的情況，是可以不需要一開始就加上太強的正規化的(將正則化改小可以改進預測能力)。"
   ]
  },
  {
   "cell_type": "markdown",
   "metadata": {},
   "source": [
    "### 改變正則化強度\n",
    "### Ols"
   ]
  },
  {
   "cell_type": "code",
   "execution_count": 64,
   "metadata": {},
   "outputs": [],
   "source": [
    "alpha = [0.0001, 0.001, 0.01, 0.02, 0.05, 0.1, 0.2, 0.5, 1.0]\n",
    "ols_mse = list(itertools.repeat(ols_mse, len(alpha)))\n",
    "ols_r2 = list(itertools.repeat(ols_r2, len(alpha)))"
   ]
  },
  {
   "cell_type": "markdown",
   "metadata": {},
   "source": [
    "### Lasso"
   ]
  },
  {
   "cell_type": "code",
   "execution_count": 65,
   "metadata": {},
   "outputs": [
    {
     "name": "stdout",
     "output_type": "stream",
     "text": [
      "[2938.8040696990065, 2933.449515397142, 2905.5964136990756, 2894.9769727505686, 2874.6075011088606, 2877.2277656320584, 2893.098479159996, 3055.788638830718, 3505.8375893028074]\n",
      "[0.461200491249392, 0.46218219372393576, 0.4672887735285691, 0.4692357388350543, 0.47297027201718167, 0.4724898734589884, 0.4695801413198023, 0.4397525733601183, 0.35724072579318467]\n"
     ]
    }
   ],
   "source": [
    "lasso_mse = list()\n",
    "lasso_r2 = list()\n",
    "\n",
    "for a in alpha:\n",
    "    # 建立一個 Lasso 模型\n",
    "    lasso_reg = Lasso(alpha=a)\n",
    "\n",
    "    # 將訓練資料丟進去模型訓練\n",
    "    lasso_reg.fit(X_train, y_train)\n",
    "\n",
    "    # 將測試資料丟進模型得到預測結果\n",
    "    y_pred = lasso_reg.predict(X_test)\n",
    "\n",
    "    # 回歸問題的衡量採用 MSE 及 R square\n",
    "    lasso_mse.append(mean_squared_error(y_test, y_pred))\n",
    "    lasso_r2.append(r2_score(y_test, y_pred))\n",
    "print(lasso_mse)\n",
    "print(lasso_r2)"
   ]
  },
  {
   "cell_type": "markdown",
   "metadata": {},
   "source": [
    "### Ridge"
   ]
  },
  {
   "cell_type": "code",
   "execution_count": 66,
   "metadata": {},
   "outputs": [
    {
     "name": "stdout",
     "output_type": "stream",
     "text": [
      "[2938.5210435206636, 2931.7658329208916, 2908.779126160051, 2902.231303662525, 2895.3465400593013, 2894.5900186420854, 2911.6325146977647, 3019.0048396231155, 3221.420945064198]\n",
      "[0.4612523811890539, 0.4624908795939634, 0.46670525592419754, 0.46790573185297035, 0.4691679824689704, 0.46930668289209754, 0.4661821164749752, 0.4464965047257323, 0.4093855930799496]\n"
     ]
    }
   ],
   "source": [
    "ridge_mse = list()\n",
    "ridge_r2 = list()\n",
    "\n",
    "for a in alpha:\n",
    "    # 建立一個 Lasso 模型\n",
    "    ridge_reg = Ridge(alpha=a)\n",
    "\n",
    "    # 將訓練資料丟進去模型訓練\n",
    "    ridge_reg.fit(X_train, y_train)\n",
    "\n",
    "    # 將測試資料丟進模型得到預測結果\n",
    "    y_pred = ridge_reg.predict(X_test)\n",
    "\n",
    "    # 回歸問題的衡量採用 MSE 及 R square\n",
    "    ridge_mse.append(mean_squared_error(y_test, y_pred))\n",
    "    ridge_r2.append(r2_score(y_test, y_pred))\n",
    "print(ridge_mse)\n",
    "print(ridge_r2)"
   ]
  },
  {
   "cell_type": "code",
   "execution_count": 71,
   "metadata": {},
   "outputs": [
    {
     "data": {
      "image/png": "[encoded data removed]",
      "text/plain": [
       "<Figure size 432x288 with 1 Axes>"
      ]
     },
     "metadata": {
      "needs_background": "light"
     },
     "output_type": "display_data"
    }
   ],
   "source": [
    "plt.plot(alpha, ols_mse, color='b', label='ols');\n",
    "plt.plot(alpha, lasso_mse, color='r', label='lasso');\n",
    "plt.plot(alpha, ridge_mse, color='k', label='ridge');\n",
    "plt.xlabel('alpha'); plt.ylabel('MSE'); plt.legend(); plt.title('MSE vs alpha');"
   ]
  },
  {
   "cell_type": "code",
   "execution_count": 72,
   "metadata": {},
   "outputs": [
    {
     "data": {
      "image/png": "[encoded data removed]",
      "text/plain": [
       "<Figure size 432x288 with 1 Axes>"
      ]
     },
     "metadata": {
      "needs_background": "light"
     },
     "output_type": "display_data"
    }
   ],
   "source": [
    "plt.plot(alpha, ols_r2, color='b', label='ols');\n",
    "plt.plot(alpha, lasso_r2, color='r', label='lasso');\n",
    "plt.plot(alpha, ridge_r2, color='k', label='ridge');\n",
    "plt.xlabel('alpha'); plt.ylabel('R square'); plt.legend(); plt.title('R square vs alpha');"
   ]
  },
  {
   "cell_type": "markdown",
   "metadata": {},
   "source": [
    "## 練習時間"
   ]
  },
  {
   "cell_type": "markdown",
   "metadata": {},
   "source": [
    "請使用其他資料集 (boston, wine)，並調整不同的 alpha 來觀察模型訓練的情形。"
   ]
  },
  {
   "cell_type": "code",
   "execution_count": null,
   "metadata": {},
   "outputs": [],
   "source": []
  }
 ],
 "metadata": {
  "kernelspec": {
   "display_name": "Python 3",
   "language": "python",
   "name": "python3"
  },
  "language_info": {
   "codemirror_mode": {
    "name": "ipython",
    "version": 3
   },
   "file_extension": ".py",
   "mimetype": "text/x-python",
   "name": "python",
   "nbconvert_exporter": "python",
   "pygments_lexer": "ipython3",
   "version": "3.7.7"
  }
 },
 "nbformat": 4,
 "nbformat_minor": 2
}
