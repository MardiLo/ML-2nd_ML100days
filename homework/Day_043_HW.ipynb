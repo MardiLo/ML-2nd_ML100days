{
 "cells": [
  {
   "cell_type": "markdown",
   "metadata": {},
   "source": [
    "## [作業重點]\n",
    "了解隨機森林改善了決策樹的什麼缺點？是用什麼方法改進的？"
   ]
  },
  {
   "cell_type": "markdown",
   "metadata": {},
   "source": [
    "## 作業\n",
    "\n",
    "閱讀以下兩篇文獻，了解隨機森林原理，並試著回答後續的思考問題\n",
    "- [隨機森林 (random forest) - 中文](http://hhtucode.blogspot.tw/2013/06/ml-random-forest.html)\n",
    "- [how random forest works - 英文](https://medium.com/@Synced/how-random-forest-algorithm-works-in-machine-learning-3c0fe15b6674)"
   ]
  },
  {
   "cell_type": "markdown",
   "metadata": {},
   "source": [
    "\n",
    "1. 隨機森林中的每一棵樹，是希望能夠  \n",
    "   對於隨機森林算法，如果森林中有足夠的樹，分類器將不會過度擬合模型。\n",
    "    \n",
    "    \n",
    "2. 假設總共有 $N$ 筆資料，每棵樹用取後放回的方式抽了總共 $N$ 筆資料生成，請問這棵樹大約使用了多少百分比不重複的原資料生成?  \n",
    "   假設給定的數據集包含 $N$ 個樣本。該數據集有放回地抽樣 $N$ 次，產生 $N$ 個樣本的訓練集。這樣原數據樣本中的某些樣本很可能在該樣本集中出現多次。沒有進入該訓練集的樣本最終形成檢驗集（測試集）。 顯然每個樣本被選中的概率是 $1/N$ ，因此未被選中的概率就是 $1-1/N$ ，這樣一個樣本在訓練集中沒出現的概率就是 $N$ 次都未被選中的概率，即 $(1-1/N)^{N}$。當 $N\\rightarrow \\infty $ 時，這一概率就將趨近於 $e^{-1}=0.368$ ，所以留在訓練集中的樣本大概就占原來數據集的 $63.2\\% $ 。\n"
   ]
  },
  {
   "cell_type": "code",
   "execution_count": null,
   "metadata": {},
   "outputs": [],
   "source": []
  }
 ],
 "metadata": {
  "kernelspec": {
   "display_name": "Python 3",
   "language": "python",
   "name": "python3"
  },
  "language_info": {
   "codemirror_mode": {
    "name": "ipython",
    "version": 3
   },
   "file_extension": ".py",
   "mimetype": "text/x-python",
   "name": "python",
   "nbconvert_exporter": "python",
   "pygments_lexer": "ipython3",
   "version": "3.6.8"
  }
 },
 "nbformat": 4,
 "nbformat_minor": 2
}
